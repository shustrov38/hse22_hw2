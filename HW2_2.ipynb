{
  "cells": [
    {
      "cell_type": "markdown",
      "metadata": {
        "id": "WJ71oQTxShEj"
      },
      "source": [
        "# Скачиваем данные и устанавливаем программы"
      ]
    },
    {
      "cell_type": "code",
      "execution_count": 2,
      "metadata": {
        "colab": {
          "base_uri": "https://localhost:8080/"
        },
        "id": "fWSU9pxNTOSR",
        "outputId": "739085fb-1e8c-420c-fade-ab76e8f7b014"
      },
      "outputs": [
        {
          "name": "stdout",
          "output_type": "stream",
          "text": [
            "--2022-10-09 18:45:17--  https://raw.github.com/shustrov38/hse22_hw1/master/platanus/Poil_gapClosed.fa\n",
            "Resolving raw.github.com (raw.github.com)... 185.199.108.133, 185.199.109.133, 185.199.110.133, ...\n",
            "Connecting to raw.github.com (raw.github.com)|185.199.108.133|:443... connected.\n",
            "HTTP request sent, awaiting response... 301 Moved Permanently\n",
            "Location: https://raw.githubusercontent.com/shustrov38/hse22_hw1/master/platanus/Poil_gapClosed.fa [following]\n",
            "--2022-10-09 18:45:17--  https://raw.githubusercontent.com/shustrov38/hse22_hw1/master/platanus/Poil_gapClosed.fa\n",
            "Resolving raw.githubusercontent.com (raw.githubusercontent.com)... 185.199.108.133, 185.199.109.133, 185.199.110.133, ...\n",
            "Connecting to raw.githubusercontent.com (raw.githubusercontent.com)|185.199.108.133|:443... connected.\n",
            "HTTP request sent, awaiting response... 200 OK\n",
            "Length: 3968217 (3.8M) [text/plain]\n",
            "Saving to: ‘Poil_gapClosed.fa’\n",
            "\n",
            "Poil_gapClosed.fa   100%[===================>]   3.78M  --.-KB/s    in 0.05s   \n",
            "\n",
            "2022-10-09 18:45:18 (78.0 MB/s) - ‘Poil_gapClosed.fa’ saved [3968217/3968217]\n",
            "\n"
          ]
        }
      ],
      "source": [
        "!wget https://raw.github.com/shustrov38/hse22_hw1/master/platanus/Poil_gapClosed.fa"
      ]
    },
    {
      "cell_type": "code",
      "execution_count": 4,
      "metadata": {
        "colab": {
          "base_uri": "https://localhost:8080/"
        },
        "id": "yWoD0myNTVi8",
        "outputId": "b3e3ca97-9e8e-429f-e570-194111596f21"
      },
      "outputs": [
        {
          "name": "stdout",
          "output_type": "stream",
          "text": [
            "--2022-10-09 18:45:39--  https://raw.github.com/shustrov38/hse22_hw2/master/gms2.lst\n",
            "Resolving raw.github.com (raw.github.com)... 185.199.110.133, 185.199.108.133, 185.199.111.133, ...\n",
            "Connecting to raw.github.com (raw.github.com)|185.199.110.133|:443... connected.\n",
            "HTTP request sent, awaiting response... 301 Moved Permanently\n",
            "Location: https://raw.githubusercontent.com/shustrov38/hse22_hw2/master/gms2.lst [following]\n",
            "--2022-10-09 18:45:39--  https://raw.githubusercontent.com/shustrov38/hse22_hw2/master/gms2.lst\n",
            "Resolving raw.githubusercontent.com (raw.githubusercontent.com)... 185.199.108.133, 185.199.109.133, 185.199.110.133, ...\n",
            "Connecting to raw.githubusercontent.com (raw.githubusercontent.com)|185.199.108.133|:443... connected.\n",
            "HTTP request sent, awaiting response... 200 OK\n",
            "Length: 220778 (216K) [text/plain]\n",
            "Saving to: ‘gms2.lst’\n",
            "\n",
            "gms2.lst            100%[===================>] 215.60K  --.-KB/s    in 0.02s   \n",
            "\n",
            "2022-10-09 18:45:39 (12.1 MB/s) - ‘gms2.lst’ saved [220778/220778]\n",
            "\n"
          ]
        }
      ],
      "source": [
        "!wget https://raw.github.com/shustrov38/hse22_hw2/master/gms2.lst"
      ]
    },
    {
      "cell_type": "code",
      "execution_count": 5,
      "metadata": {
        "colab": {
          "base_uri": "https://localhost:8080/"
        },
        "id": "FkuulZekTbh9",
        "outputId": "95b8fff5-d902-4c91-b417-ceebe30dfd3c"
      },
      "outputs": [
        {
          "name": "stdout",
          "output_type": "stream",
          "text": [
            "--2022-10-09 18:45:42--  https://raw.github.com/shustrov38/hse22_hw2/master/proteins.fasta\n",
            "Resolving raw.github.com (raw.github.com)... 185.199.110.133, 185.199.108.133, 185.199.111.133, ...\n",
            "Connecting to raw.github.com (raw.github.com)|185.199.110.133|:443... connected.\n",
            "HTTP request sent, awaiting response... 301 Moved Permanently\n",
            "Location: https://raw.githubusercontent.com/shustrov38/hse22_hw2/master/proteins.fasta [following]\n",
            "--2022-10-09 18:45:42--  https://raw.githubusercontent.com/shustrov38/hse22_hw2/master/proteins.fasta\n",
            "Resolving raw.githubusercontent.com (raw.githubusercontent.com)... 185.199.108.133, 185.199.109.133, 185.199.110.133, ...\n",
            "Connecting to raw.githubusercontent.com (raw.githubusercontent.com)|185.199.108.133|:443... connected.\n",
            "HTTP request sent, awaiting response... 200 OK\n",
            "Length: 1402312 (1.3M) [text/plain]\n",
            "Saving to: ‘proteins.fasta’\n",
            "\n",
            "proteins.fasta      100%[===================>]   1.34M  --.-KB/s    in 0.04s   \n",
            "\n",
            "2022-10-09 18:45:42 (34.3 MB/s) - ‘proteins.fasta’ saved [1402312/1402312]\n",
            "\n"
          ]
        }
      ],
      "source": [
        "!wget https://raw.github.com/shustrov38/hse22_hw2/master/proteins.fasta"
      ]
    },
    {
      "cell_type": "code",
      "execution_count": 6,
      "metadata": {
        "colab": {
          "base_uri": "https://localhost:8080/"
        },
        "id": "wljcApdJTjGr",
        "outputId": "c15c656e-ad27-4eb6-c081-65624cd6b6a6"
      },
      "outputs": [
        {
          "name": "stdout",
          "output_type": "stream",
          "text": [
            "--2022-10-09 18:45:46--  https://raw.github.com/shustrov38/hse22_hw2/master/scaffolds.hits_from_MIL_1.txt\n",
            "Resolving raw.github.com (raw.github.com)... 185.199.110.133, 185.199.108.133, 185.199.111.133, ...\n",
            "Connecting to raw.github.com (raw.github.com)|185.199.110.133|:443... connected.\n",
            "HTTP request sent, awaiting response... 301 Moved Permanently\n",
            "Location: https://raw.githubusercontent.com/shustrov38/hse22_hw2/master/scaffolds.hits_from_MIL_1.txt [following]\n",
            "--2022-10-09 18:45:46--  https://raw.githubusercontent.com/shustrov38/hse22_hw2/master/scaffolds.hits_from_MIL_1.txt\n",
            "Resolving raw.githubusercontent.com (raw.githubusercontent.com)... 185.199.109.133, 185.199.108.133, 185.199.110.133, ...\n",
            "Connecting to raw.githubusercontent.com (raw.githubusercontent.com)|185.199.109.133|:443... connected.\n",
            "HTTP request sent, awaiting response... 200 OK\n",
            "Length: 871248 (851K) [text/plain]\n",
            "Saving to: ‘scaffolds.hits_from_MIL_1.txt’\n",
            "\n",
            "scaffolds.hits_from 100%[===================>] 850.83K  --.-KB/s    in 0.03s   \n",
            "\n",
            "2022-10-09 18:45:46 (25.7 MB/s) - ‘scaffolds.hits_from_MIL_1.txt’ saved [871248/871248]\n",
            "\n"
          ]
        }
      ],
      "source": [
        "!wget https://raw.github.com/shustrov38/hse22_hw2/master/scaffolds.hits_from_MIL_1.txt"
      ]
    },
    {
      "cell_type": "code",
      "execution_count": 7,
      "metadata": {
        "colab": {
          "base_uri": "https://localhost:8080/"
        },
        "id": "7ZGyVtAfTopz",
        "outputId": "0e1d951d-d674-4efa-f751-97dfdc5e4397"
      },
      "outputs": [
        {
          "name": "stdout",
          "output_type": "stream",
          "text": [
            "--2022-10-09 18:45:47--  https://raw.github.com/shustrov38/hse22_hw2/master/scaffolds.hits_from_SwissProt.txt\n",
            "Resolving raw.github.com (raw.github.com)... 185.199.110.133, 185.199.108.133, 185.199.111.133, ...\n",
            "Connecting to raw.github.com (raw.github.com)|185.199.110.133|:443... connected.\n",
            "HTTP request sent, awaiting response... 301 Moved Permanently\n",
            "Location: https://raw.githubusercontent.com/shustrov38/hse22_hw2/master/scaffolds.hits_from_SwissProt.txt [following]\n",
            "--2022-10-09 18:45:47--  https://raw.githubusercontent.com/shustrov38/hse22_hw2/master/scaffolds.hits_from_SwissProt.txt\n",
            "Resolving raw.githubusercontent.com (raw.githubusercontent.com)... 185.199.108.133, 185.199.109.133, 185.199.110.133, ...\n",
            "Connecting to raw.githubusercontent.com (raw.githubusercontent.com)|185.199.108.133|:443... connected.\n",
            "HTTP request sent, awaiting response... 200 OK\n",
            "Length: 65211 (64K) [text/plain]\n",
            "Saving to: ‘scaffolds.hits_from_SwissProt.txt’\n",
            "\n",
            "scaffolds.hits_from 100%[===================>]  63.68K  --.-KB/s    in 0.009s  \n",
            "\n",
            "2022-10-09 18:45:48 (7.24 MB/s) - ‘scaffolds.hits_from_SwissProt.txt’ saved [65211/65211]\n",
            "\n"
          ]
        }
      ],
      "source": [
        "!wget https://raw.github.com/shustrov38/hse22_hw2/master/scaffolds.hits_from_SwissProt.txt"
      ]
    },
    {
      "cell_type": "markdown",
      "metadata": {
        "id": "EkEflOHmCHHW"
      },
      "source": [
        "## Скачиваем геном близкородственной бактерии T.oleivorans"
      ]
    },
    {
      "cell_type": "markdown",
      "metadata": {
        "id": "noBYTW1bRH9O"
      },
      "source": [
        "Геном, последовательности генов (нт) и белков (протеом) для бактерии Thalassolituus oleivorans MIL-1\n",
        "https://www.ncbi.nlm.nih.gov/nuccore/HF680312"
      ]
    },
    {
      "cell_type": "code",
      "execution_count": 8,
      "metadata": {
        "colab": {
          "base_uri": "https://localhost:8080/"
        },
        "id": "bqv3FR5efmk6",
        "outputId": "9475815a-c2f3-4771-a237-28d5b7adbe65"
      },
      "outputs": [
        {
          "name": "stdout",
          "output_type": "stream",
          "text": [
            "\n",
            "Entrez Direct has been successfully downloaded and installed.\n",
            "\n",
            "In order to complete the configuration process, please execute the following:\n",
            "\n",
            "  echo \"export PATH=\\${PATH}:/root/edirect\" >> ${HOME}/.bashrc\n",
            "\n",
            "or manually edit the PATH variable assignment in your .bashrc file.\n",
            "\n",
            "Would you like to do that automatically now? [y/N]\n",
            "y\n",
            "OK, done.\n",
            "\n",
            "To activate EDirect for this terminal session, please execute the following:\n",
            "\n",
            "export PATH=${PATH}:${HOME}/edirect\n",
            "\n"
          ]
        }
      ],
      "source": [
        "!sh -c \"$(curl -fsSL ftp://ftp.ncbi.nlm.nih.gov/entrez/entrezdirect/install-edirect.sh)\""
      ]
    },
    {
      "cell_type": "code",
      "execution_count": 9,
      "metadata": {
        "id": "4O3-rUx4fvbw"
      },
      "outputs": [],
      "source": [
        "!$HOME/edirect/efetch -db nuccore -id HF680312 -format gb  >  T_oleivorans_MIL_1.gbk"
      ]
    },
    {
      "cell_type": "code",
      "execution_count": 10,
      "metadata": {
        "colab": {
          "base_uri": "https://localhost:8080/"
        },
        "id": "j2uga-mieSB6",
        "outputId": "0e5cff91-d9fa-484b-f230-33af5f4a8c18"
      },
      "outputs": [
        {
          "name": "stdout",
          "output_type": "stream",
          "text": [
            "Looking in indexes: https://pypi.org/simple, https://us-python.pkg.dev/colab-wheels/public/simple/\n",
            "Collecting biopython\n",
            "  Downloading biopython-1.79-cp37-cp37m-manylinux_2_17_x86_64.manylinux2014_x86_64.whl (2.6 MB)\n",
            "\u001b[K     |████████████████████████████████| 2.6 MB 9.5 MB/s \n",
            "\u001b[?25hRequirement already satisfied: numpy in /usr/local/lib/python3.7/dist-packages (from biopython) (1.21.6)\n",
            "Installing collected packages: biopython\n",
            "Successfully installed biopython-1.79\n"
          ]
        }
      ],
      "source": [
        "!pip install biopython"
      ]
    },
    {
      "cell_type": "markdown",
      "metadata": {
        "id": "EJIw_JDLUgt5"
      },
      "source": [
        "## Аннотация генома \n"
      ]
    },
    {
      "cell_type": "markdown",
      "metadata": {
        "id": "qhxlclhoYhBh"
      },
      "source": [
        "Biopython Tutorial: http://biopython.org/DIST/docs/tutorial/Tutorial.html"
      ]
    },
    {
      "cell_type": "code",
      "execution_count": 11,
      "metadata": {
        "id": "AsrpiDJEUhJ9"
      },
      "outputs": [],
      "source": [
        "from Bio import SeqIO\n",
        "from Bio.SeqFeature import SeqFeature, FeatureLocation\n",
        "from datetime import datetime as dt\n",
        "import pandas as pd"
      ]
    },
    {
      "cell_type": "code",
      "execution_count": 12,
      "metadata": {
        "id": "1hegJvwMIiPe"
      },
      "outputs": [],
      "source": [
        "scaffolds = dict()\n",
        "for record in SeqIO.parse(\"Poil_gapClosed.fa\", \"fasta\"):\n",
        "  record.annotations['molecule_type'] = 'DNA'\n",
        "  record.annotations['date'] = dt.now().strftime(\"%d-%b-%Y\").upper()\n",
        "  record.annotations['data_file_division'] = 'BCT'\n",
        "  \n",
        "  scaffolds[record.id] = record"
      ]
    },
    {
      "cell_type": "code",
      "execution_count": 13,
      "metadata": {
        "id": "2lfODIwJmtra"
      },
      "outputs": [],
      "source": [
        "genes = dict()\n",
        "for gene in SeqIO.parse(\"proteins.fasta\", \"fasta\"):\n",
        "  desc = gene.description.split(' ')\n",
        "  scaffold = desc[1]\n",
        "  start, end = int(desc[2]), int(desc[3])\n",
        "  strand = 1 if desc[4] == '+' else -1\n",
        "  \n",
        "  feat = SeqFeature(FeatureLocation(start, end, strand=strand), type=\"CDS\")\n",
        "  feat.qualifiers['locus_tag'] = [desc[0]]\n",
        "  feat.qualifiers['translation'] = [gene.seq]\n",
        "  scaffolds[scaffold].features.append(feat)\n",
        "  \n",
        "  genes[desc[0]] = feat"
      ]
    },
    {
      "cell_type": "code",
      "execution_count": 14,
      "metadata": {
        "colab": {
          "base_uri": "https://localhost:8080/"
        },
        "id": "Zb2KxgYJA9sL",
        "outputId": "6761a0e2-2fca-46ac-8caf-9b6534c000ec"
      },
      "outputs": [
        {
          "data": {
            "text/plain": [
              "OrderedDict([('locus_tag', ['3611']),\n",
              "             ('translation',\n",
              "              [Seq('MLKANNLTVSMSRRGNCHDNACAESFFALLKRERIRRKIYRTREEGKADIFNYI...RHG')])])"
            ]
          },
          "execution_count": 14,
          "metadata": {},
          "output_type": "execute_result"
        }
      ],
      "source": [
        "feat.qualifiers"
      ]
    },
    {
      "cell_type": "markdown",
      "metadata": {
        "id": "D2UNiwEyet54"
      },
      "source": [
        "## Добавляем функции белков (из бактерии MIL-1)"
      ]
    },
    {
      "cell_type": "code",
      "execution_count": 15,
      "metadata": {
        "id": "L8dFyRiakGm2"
      },
      "outputs": [],
      "source": [
        "mil1genes = dict()\n",
        "for feat in SeqIO.read(\"T_oleivorans_MIL_1.gbk\", \"genbank\").features:\n",
        "  if 'protein_id' not in feat.qualifiers:\n",
        "    continue\n",
        "  if 'product' not in feat.qualifiers:\n",
        "    continue\n",
        "  \n",
        "  mil1genes[feat.qualifiers['protein_id'][0]] = feat.qualifiers['product'][0]"
      ]
    },
    {
      "cell_type": "code",
      "execution_count": 16,
      "metadata": {
        "colab": {
          "base_uri": "https://localhost:8080/",
          "height": 424
        },
        "id": "ROQgT1Szm6QL",
        "outputId": "f3e77406-1ace-4473-e0b3-6fe99e0cc0af"
      },
      "outputs": [
        {
          "data": {
            "text/html": [
              "\n",
              "  <div id=\"df-20da0303-34cf-40b4-a2bd-f1da4a412c8b\">\n",
              "    <div class=\"colab-df-container\">\n",
              "      <div>\n",
              "<style scoped>\n",
              "    .dataframe tbody tr th:only-of-type {\n",
              "        vertical-align: middle;\n",
              "    }\n",
              "\n",
              "    .dataframe tbody tr th {\n",
              "        vertical-align: top;\n",
              "    }\n",
              "\n",
              "    .dataframe thead th {\n",
              "        text-align: right;\n",
              "    }\n",
              "</style>\n",
              "<table border=\"1\" class=\"dataframe\">\n",
              "  <thead>\n",
              "    <tr style=\"text-align: right;\">\n",
              "      <th></th>\n",
              "      <th>qseqid</th>\n",
              "      <th>sseqid</th>\n",
              "      <th>pident</th>\n",
              "      <th>length</th>\n",
              "      <th>mismatch</th>\n",
              "      <th>gapopen</th>\n",
              "      <th>qstart</th>\n",
              "      <th>qend</th>\n",
              "      <th>sstart</th>\n",
              "      <th>send</th>\n",
              "      <th>evalue</th>\n",
              "      <th>bitscore</th>\n",
              "    </tr>\n",
              "  </thead>\n",
              "  <tbody>\n",
              "    <tr>\n",
              "      <th>0</th>\n",
              "      <td>1</td>\n",
              "      <td>lcl|HF680312.1_prot_CCU72675.1_2226</td>\n",
              "      <td>100.000</td>\n",
              "      <td>383</td>\n",
              "      <td>0</td>\n",
              "      <td>0</td>\n",
              "      <td>2</td>\n",
              "      <td>384</td>\n",
              "      <td>1</td>\n",
              "      <td>383</td>\n",
              "      <td>0.000000e+00</td>\n",
              "      <td>782.0</td>\n",
              "    </tr>\n",
              "    <tr>\n",
              "      <th>1</th>\n",
              "      <td>2</td>\n",
              "      <td>lcl|HF680312.1_prot_CCU72677.1_2228</td>\n",
              "      <td>100.000</td>\n",
              "      <td>626</td>\n",
              "      <td>0</td>\n",
              "      <td>0</td>\n",
              "      <td>1</td>\n",
              "      <td>626</td>\n",
              "      <td>1</td>\n",
              "      <td>626</td>\n",
              "      <td>0.000000e+00</td>\n",
              "      <td>1265.0</td>\n",
              "    </tr>\n",
              "    <tr>\n",
              "      <th>2</th>\n",
              "      <td>2</td>\n",
              "      <td>lcl|HF680312.1_prot_CCU72680.1_2231</td>\n",
              "      <td>28.296</td>\n",
              "      <td>311</td>\n",
              "      <td>210</td>\n",
              "      <td>10</td>\n",
              "      <td>51</td>\n",
              "      <td>353</td>\n",
              "      <td>25</td>\n",
              "      <td>330</td>\n",
              "      <td>1.120000e-19</td>\n",
              "      <td>90.1</td>\n",
              "    </tr>\n",
              "    <tr>\n",
              "      <th>3</th>\n",
              "      <td>3</td>\n",
              "      <td>lcl|HF680312.1_prot_CCU72678.1_2229</td>\n",
              "      <td>100.000</td>\n",
              "      <td>382</td>\n",
              "      <td>0</td>\n",
              "      <td>0</td>\n",
              "      <td>1</td>\n",
              "      <td>382</td>\n",
              "      <td>1</td>\n",
              "      <td>382</td>\n",
              "      <td>0.000000e+00</td>\n",
              "      <td>777.0</td>\n",
              "    </tr>\n",
              "    <tr>\n",
              "      <th>4</th>\n",
              "      <td>4</td>\n",
              "      <td>lcl|HF680312.1_prot_CCU72679.1_2230</td>\n",
              "      <td>100.000</td>\n",
              "      <td>428</td>\n",
              "      <td>0</td>\n",
              "      <td>0</td>\n",
              "      <td>1</td>\n",
              "      <td>428</td>\n",
              "      <td>1</td>\n",
              "      <td>428</td>\n",
              "      <td>0.000000e+00</td>\n",
              "      <td>871.0</td>\n",
              "    </tr>\n",
              "    <tr>\n",
              "      <th>...</th>\n",
              "      <td>...</td>\n",
              "      <td>...</td>\n",
              "      <td>...</td>\n",
              "      <td>...</td>\n",
              "      <td>...</td>\n",
              "      <td>...</td>\n",
              "      <td>...</td>\n",
              "      <td>...</td>\n",
              "      <td>...</td>\n",
              "      <td>...</td>\n",
              "      <td>...</td>\n",
              "      <td>...</td>\n",
              "    </tr>\n",
              "    <tr>\n",
              "      <th>10527</th>\n",
              "      <td>3611</td>\n",
              "      <td>lcl|HF680312.1_prot_CCU73192.1_2743</td>\n",
              "      <td>100.000</td>\n",
              "      <td>65</td>\n",
              "      <td>0</td>\n",
              "      <td>0</td>\n",
              "      <td>1</td>\n",
              "      <td>65</td>\n",
              "      <td>120</td>\n",
              "      <td>184</td>\n",
              "      <td>3.650000e-44</td>\n",
              "      <td>137.0</td>\n",
              "    </tr>\n",
              "    <tr>\n",
              "      <th>10528</th>\n",
              "      <td>3611</td>\n",
              "      <td>lcl|HF680312.1_prot_CCU72958.1_2509</td>\n",
              "      <td>100.000</td>\n",
              "      <td>65</td>\n",
              "      <td>0</td>\n",
              "      <td>0</td>\n",
              "      <td>1</td>\n",
              "      <td>65</td>\n",
              "      <td>120</td>\n",
              "      <td>184</td>\n",
              "      <td>3.650000e-44</td>\n",
              "      <td>137.0</td>\n",
              "    </tr>\n",
              "    <tr>\n",
              "      <th>10529</th>\n",
              "      <td>3611</td>\n",
              "      <td>lcl|HF680312.1_prot_CCU72346.1_1897</td>\n",
              "      <td>100.000</td>\n",
              "      <td>65</td>\n",
              "      <td>0</td>\n",
              "      <td>0</td>\n",
              "      <td>1</td>\n",
              "      <td>65</td>\n",
              "      <td>120</td>\n",
              "      <td>184</td>\n",
              "      <td>3.650000e-44</td>\n",
              "      <td>137.0</td>\n",
              "    </tr>\n",
              "    <tr>\n",
              "      <th>10530</th>\n",
              "      <td>3611</td>\n",
              "      <td>lcl|HF680312.1_prot_CCU71763.1_1314</td>\n",
              "      <td>100.000</td>\n",
              "      <td>65</td>\n",
              "      <td>0</td>\n",
              "      <td>0</td>\n",
              "      <td>1</td>\n",
              "      <td>65</td>\n",
              "      <td>120</td>\n",
              "      <td>184</td>\n",
              "      <td>3.650000e-44</td>\n",
              "      <td>137.0</td>\n",
              "    </tr>\n",
              "    <tr>\n",
              "      <th>10531</th>\n",
              "      <td>3611</td>\n",
              "      <td>lcl|HF680312.1_prot_CCU70461.1_12</td>\n",
              "      <td>100.000</td>\n",
              "      <td>65</td>\n",
              "      <td>0</td>\n",
              "      <td>0</td>\n",
              "      <td>1</td>\n",
              "      <td>65</td>\n",
              "      <td>120</td>\n",
              "      <td>184</td>\n",
              "      <td>3.650000e-44</td>\n",
              "      <td>137.0</td>\n",
              "    </tr>\n",
              "  </tbody>\n",
              "</table>\n",
              "<p>10532 rows × 12 columns</p>\n",
              "</div>\n",
              "      <button class=\"colab-df-convert\" onclick=\"convertToInteractive('df-20da0303-34cf-40b4-a2bd-f1da4a412c8b')\"\n",
              "              title=\"Convert this dataframe to an interactive table.\"\n",
              "              style=\"display:none;\">\n",
              "        \n",
              "  <svg xmlns=\"http://www.w3.org/2000/svg\" height=\"24px\"viewBox=\"0 0 24 24\"\n",
              "       width=\"24px\">\n",
              "    <path d=\"M0 0h24v24H0V0z\" fill=\"none\"/>\n",
              "    <path d=\"M18.56 5.44l.94 2.06.94-2.06 2.06-.94-2.06-.94-.94-2.06-.94 2.06-2.06.94zm-11 1L8.5 8.5l.94-2.06 2.06-.94-2.06-.94L8.5 2.5l-.94 2.06-2.06.94zm10 10l.94 2.06.94-2.06 2.06-.94-2.06-.94-.94-2.06-.94 2.06-2.06.94z\"/><path d=\"M17.41 7.96l-1.37-1.37c-.4-.4-.92-.59-1.43-.59-.52 0-1.04.2-1.43.59L10.3 9.45l-7.72 7.72c-.78.78-.78 2.05 0 2.83L4 21.41c.39.39.9.59 1.41.59.51 0 1.02-.2 1.41-.59l7.78-7.78 2.81-2.81c.8-.78.8-2.07 0-2.86zM5.41 20L4 18.59l7.72-7.72 1.47 1.35L5.41 20z\"/>\n",
              "  </svg>\n",
              "      </button>\n",
              "      \n",
              "  <style>\n",
              "    .colab-df-container {\n",
              "      display:flex;\n",
              "      flex-wrap:wrap;\n",
              "      gap: 12px;\n",
              "    }\n",
              "\n",
              "    .colab-df-convert {\n",
              "      background-color: #E8F0FE;\n",
              "      border: none;\n",
              "      border-radius: 50%;\n",
              "      cursor: pointer;\n",
              "      display: none;\n",
              "      fill: #1967D2;\n",
              "      height: 32px;\n",
              "      padding: 0 0 0 0;\n",
              "      width: 32px;\n",
              "    }\n",
              "\n",
              "    .colab-df-convert:hover {\n",
              "      background-color: #E2EBFA;\n",
              "      box-shadow: 0px 1px 2px rgba(60, 64, 67, 0.3), 0px 1px 3px 1px rgba(60, 64, 67, 0.15);\n",
              "      fill: #174EA6;\n",
              "    }\n",
              "\n",
              "    [theme=dark] .colab-df-convert {\n",
              "      background-color: #3B4455;\n",
              "      fill: #D2E3FC;\n",
              "    }\n",
              "\n",
              "    [theme=dark] .colab-df-convert:hover {\n",
              "      background-color: #434B5C;\n",
              "      box-shadow: 0px 1px 3px 1px rgba(0, 0, 0, 0.15);\n",
              "      filter: drop-shadow(0px 1px 2px rgba(0, 0, 0, 0.3));\n",
              "      fill: #FFFFFF;\n",
              "    }\n",
              "  </style>\n",
              "\n",
              "      <script>\n",
              "        const buttonEl =\n",
              "          document.querySelector('#df-20da0303-34cf-40b4-a2bd-f1da4a412c8b button.colab-df-convert');\n",
              "        buttonEl.style.display =\n",
              "          google.colab.kernel.accessAllowed ? 'block' : 'none';\n",
              "\n",
              "        async function convertToInteractive(key) {\n",
              "          const element = document.querySelector('#df-20da0303-34cf-40b4-a2bd-f1da4a412c8b');\n",
              "          const dataTable =\n",
              "            await google.colab.kernel.invokeFunction('convertToInteractive',\n",
              "                                                     [key], {});\n",
              "          if (!dataTable) return;\n",
              "\n",
              "          const docLinkHtml = 'Like what you see? Visit the ' +\n",
              "            '<a target=\"_blank\" href=https://colab.research.google.com/notebooks/data_table.ipynb>data table notebook</a>'\n",
              "            + ' to learn more about interactive tables.';\n",
              "          element.innerHTML = '';\n",
              "          dataTable['output_type'] = 'display_data';\n",
              "          await google.colab.output.renderOutput(dataTable, element);\n",
              "          const docLink = document.createElement('div');\n",
              "          docLink.innerHTML = docLinkHtml;\n",
              "          element.appendChild(docLink);\n",
              "        }\n",
              "      </script>\n",
              "    </div>\n",
              "  </div>\n",
              "  "
            ],
            "text/plain": [
              "       qseqid                               sseqid   pident  length  mismatch  \\\n",
              "0           1  lcl|HF680312.1_prot_CCU72675.1_2226  100.000     383         0   \n",
              "1           2  lcl|HF680312.1_prot_CCU72677.1_2228  100.000     626         0   \n",
              "2           2  lcl|HF680312.1_prot_CCU72680.1_2231   28.296     311       210   \n",
              "3           3  lcl|HF680312.1_prot_CCU72678.1_2229  100.000     382         0   \n",
              "4           4  lcl|HF680312.1_prot_CCU72679.1_2230  100.000     428         0   \n",
              "...       ...                                  ...      ...     ...       ...   \n",
              "10527    3611  lcl|HF680312.1_prot_CCU73192.1_2743  100.000      65         0   \n",
              "10528    3611  lcl|HF680312.1_prot_CCU72958.1_2509  100.000      65         0   \n",
              "10529    3611  lcl|HF680312.1_prot_CCU72346.1_1897  100.000      65         0   \n",
              "10530    3611  lcl|HF680312.1_prot_CCU71763.1_1314  100.000      65         0   \n",
              "10531    3611    lcl|HF680312.1_prot_CCU70461.1_12  100.000      65         0   \n",
              "\n",
              "       gapopen  qstart  qend  sstart  send        evalue  bitscore  \n",
              "0            0       2   384       1   383  0.000000e+00     782.0  \n",
              "1            0       1   626       1   626  0.000000e+00    1265.0  \n",
              "2           10      51   353      25   330  1.120000e-19      90.1  \n",
              "3            0       1   382       1   382  0.000000e+00     777.0  \n",
              "4            0       1   428       1   428  0.000000e+00     871.0  \n",
              "...        ...     ...   ...     ...   ...           ...       ...  \n",
              "10527        0       1    65     120   184  3.650000e-44     137.0  \n",
              "10528        0       1    65     120   184  3.650000e-44     137.0  \n",
              "10529        0       1    65     120   184  3.650000e-44     137.0  \n",
              "10530        0       1    65     120   184  3.650000e-44     137.0  \n",
              "10531        0       1    65     120   184  3.650000e-44     137.0  \n",
              "\n",
              "[10532 rows x 12 columns]"
            ]
          },
          "execution_count": 16,
          "metadata": {},
          "output_type": "execute_result"
        }
      ],
      "source": [
        "names = ['qseqid', 'sseqid', 'pident', 'length', 'mismatch', 'gapopen', 'qstart', 'qend', 'sstart', 'send', 'evalue', 'bitscore']\n",
        "mil1hits = pd.read_csv('scaffolds.hits_from_MIL_1.txt', sep='\\t', header=None, names=names)\n",
        "mil1hits"
      ]
    },
    {
      "cell_type": "code",
      "execution_count": 17,
      "metadata": {
        "colab": {
          "base_uri": "https://localhost:8080/",
          "height": 424
        },
        "id": "IaJQu2Y8nB83",
        "outputId": "637086ae-890b-4fc6-db35-b8c02383974b"
      },
      "outputs": [
        {
          "data": {
            "text/html": [
              "\n",
              "  <div id=\"df-661580fb-c779-421c-8afd-854b719eb95e\">\n",
              "    <div class=\"colab-df-container\">\n",
              "      <div>\n",
              "<style scoped>\n",
              "    .dataframe tbody tr th:only-of-type {\n",
              "        vertical-align: middle;\n",
              "    }\n",
              "\n",
              "    .dataframe tbody tr th {\n",
              "        vertical-align: top;\n",
              "    }\n",
              "\n",
              "    .dataframe thead th {\n",
              "        text-align: right;\n",
              "    }\n",
              "</style>\n",
              "<table border=\"1\" class=\"dataframe\">\n",
              "  <thead>\n",
              "    <tr style=\"text-align: right;\">\n",
              "      <th></th>\n",
              "      <th>qseqid</th>\n",
              "      <th>sseqid</th>\n",
              "      <th>pident</th>\n",
              "      <th>length</th>\n",
              "      <th>mismatch</th>\n",
              "      <th>gapopen</th>\n",
              "      <th>qstart</th>\n",
              "      <th>qend</th>\n",
              "      <th>sstart</th>\n",
              "      <th>send</th>\n",
              "      <th>evalue</th>\n",
              "      <th>bitscore</th>\n",
              "    </tr>\n",
              "  </thead>\n",
              "  <tbody>\n",
              "    <tr>\n",
              "      <th>4095</th>\n",
              "      <td>1446</td>\n",
              "      <td>lcl|HF680312.1_prot_CCU73896.1_3447</td>\n",
              "      <td>98.979</td>\n",
              "      <td>2253</td>\n",
              "      <td>23</td>\n",
              "      <td>0</td>\n",
              "      <td>1</td>\n",
              "      <td>2253</td>\n",
              "      <td>1</td>\n",
              "      <td>2253</td>\n",
              "      <td>0.000000e+00</td>\n",
              "      <td>4296.0</td>\n",
              "    </tr>\n",
              "    <tr>\n",
              "      <th>2667</th>\n",
              "      <td>984</td>\n",
              "      <td>lcl|HF680312.1_prot_CCU70724.1_275</td>\n",
              "      <td>97.870</td>\n",
              "      <td>2113</td>\n",
              "      <td>43</td>\n",
              "      <td>1</td>\n",
              "      <td>7</td>\n",
              "      <td>2119</td>\n",
              "      <td>1</td>\n",
              "      <td>2111</td>\n",
              "      <td>0.000000e+00</td>\n",
              "      <td>4158.0</td>\n",
              "    </tr>\n",
              "    <tr>\n",
              "      <th>7812</th>\n",
              "      <td>2785</td>\n",
              "      <td>lcl|HF680312.1_prot_CCU71900.1_1451</td>\n",
              "      <td>99.878</td>\n",
              "      <td>1640</td>\n",
              "      <td>2</td>\n",
              "      <td>0</td>\n",
              "      <td>1</td>\n",
              "      <td>1640</td>\n",
              "      <td>1</td>\n",
              "      <td>1640</td>\n",
              "      <td>0.000000e+00</td>\n",
              "      <td>3406.0</td>\n",
              "    </tr>\n",
              "    <tr>\n",
              "      <th>4322</th>\n",
              "      <td>1523</td>\n",
              "      <td>lcl|HF680312.1_prot_CCU73861.1_3412</td>\n",
              "      <td>99.214</td>\n",
              "      <td>1654</td>\n",
              "      <td>13</td>\n",
              "      <td>0</td>\n",
              "      <td>1</td>\n",
              "      <td>1654</td>\n",
              "      <td>1</td>\n",
              "      <td>1654</td>\n",
              "      <td>0.000000e+00</td>\n",
              "      <td>3372.0</td>\n",
              "    </tr>\n",
              "    <tr>\n",
              "      <th>2846</th>\n",
              "      <td>1017</td>\n",
              "      <td>lcl|HF680312.1_prot_CCU70690.1_241</td>\n",
              "      <td>99.392</td>\n",
              "      <td>1645</td>\n",
              "      <td>10</td>\n",
              "      <td>0</td>\n",
              "      <td>1</td>\n",
              "      <td>1645</td>\n",
              "      <td>1</td>\n",
              "      <td>1645</td>\n",
              "      <td>0.000000e+00</td>\n",
              "      <td>3338.0</td>\n",
              "    </tr>\n",
              "    <tr>\n",
              "      <th>...</th>\n",
              "      <td>...</td>\n",
              "      <td>...</td>\n",
              "      <td>...</td>\n",
              "      <td>...</td>\n",
              "      <td>...</td>\n",
              "      <td>...</td>\n",
              "      <td>...</td>\n",
              "      <td>...</td>\n",
              "      <td>...</td>\n",
              "      <td>...</td>\n",
              "      <td>...</td>\n",
              "      <td>...</td>\n",
              "    </tr>\n",
              "    <tr>\n",
              "      <th>7735</th>\n",
              "      <td>2743</td>\n",
              "      <td>lcl|HF680312.1_prot_CCU73367.1_2918</td>\n",
              "      <td>41.096</td>\n",
              "      <td>73</td>\n",
              "      <td>43</td>\n",
              "      <td>0</td>\n",
              "      <td>5</td>\n",
              "      <td>77</td>\n",
              "      <td>8</td>\n",
              "      <td>80</td>\n",
              "      <td>7.960000e-13</td>\n",
              "      <td>54.7</td>\n",
              "    </tr>\n",
              "    <tr>\n",
              "      <th>7017</th>\n",
              "      <td>2516</td>\n",
              "      <td>lcl|HF680312.1_prot_CCU71629.1_1180</td>\n",
              "      <td>61.224</td>\n",
              "      <td>49</td>\n",
              "      <td>8</td>\n",
              "      <td>1</td>\n",
              "      <td>2</td>\n",
              "      <td>39</td>\n",
              "      <td>139</td>\n",
              "      <td>187</td>\n",
              "      <td>1.280000e-11</td>\n",
              "      <td>54.7</td>\n",
              "    </tr>\n",
              "    <tr>\n",
              "      <th>10474</th>\n",
              "      <td>3603</td>\n",
              "      <td>lcl|HF680312.1_prot_CCU72581.1_2132</td>\n",
              "      <td>29.592</td>\n",
              "      <td>98</td>\n",
              "      <td>63</td>\n",
              "      <td>2</td>\n",
              "      <td>16</td>\n",
              "      <td>112</td>\n",
              "      <td>4</td>\n",
              "      <td>96</td>\n",
              "      <td>1.250000e-11</td>\n",
              "      <td>53.5</td>\n",
              "    </tr>\n",
              "    <tr>\n",
              "      <th>8898</th>\n",
              "      <td>3187</td>\n",
              "      <td>lcl|HF680312.1_prot_CCU73711.1_3262</td>\n",
              "      <td>29.592</td>\n",
              "      <td>98</td>\n",
              "      <td>63</td>\n",
              "      <td>2</td>\n",
              "      <td>16</td>\n",
              "      <td>112</td>\n",
              "      <td>4</td>\n",
              "      <td>96</td>\n",
              "      <td>1.250000e-11</td>\n",
              "      <td>53.5</td>\n",
              "    </tr>\n",
              "    <tr>\n",
              "      <th>963</th>\n",
              "      <td>357</td>\n",
              "      <td>lcl|HF680312.1_prot_CCU73039.1_2590</td>\n",
              "      <td>100.000</td>\n",
              "      <td>28</td>\n",
              "      <td>0</td>\n",
              "      <td>0</td>\n",
              "      <td>1</td>\n",
              "      <td>28</td>\n",
              "      <td>1</td>\n",
              "      <td>28</td>\n",
              "      <td>5.730000e-12</td>\n",
              "      <td>50.1</td>\n",
              "    </tr>\n",
              "  </tbody>\n",
              "</table>\n",
              "<p>3332 rows × 12 columns</p>\n",
              "</div>\n",
              "      <button class=\"colab-df-convert\" onclick=\"convertToInteractive('df-661580fb-c779-421c-8afd-854b719eb95e')\"\n",
              "              title=\"Convert this dataframe to an interactive table.\"\n",
              "              style=\"display:none;\">\n",
              "        \n",
              "  <svg xmlns=\"http://www.w3.org/2000/svg\" height=\"24px\"viewBox=\"0 0 24 24\"\n",
              "       width=\"24px\">\n",
              "    <path d=\"M0 0h24v24H0V0z\" fill=\"none\"/>\n",
              "    <path d=\"M18.56 5.44l.94 2.06.94-2.06 2.06-.94-2.06-.94-.94-2.06-.94 2.06-2.06.94zm-11 1L8.5 8.5l.94-2.06 2.06-.94-2.06-.94L8.5 2.5l-.94 2.06-2.06.94zm10 10l.94 2.06.94-2.06 2.06-.94-2.06-.94-.94-2.06-.94 2.06-2.06.94z\"/><path d=\"M17.41 7.96l-1.37-1.37c-.4-.4-.92-.59-1.43-.59-.52 0-1.04.2-1.43.59L10.3 9.45l-7.72 7.72c-.78.78-.78 2.05 0 2.83L4 21.41c.39.39.9.59 1.41.59.51 0 1.02-.2 1.41-.59l7.78-7.78 2.81-2.81c.8-.78.8-2.07 0-2.86zM5.41 20L4 18.59l7.72-7.72 1.47 1.35L5.41 20z\"/>\n",
              "  </svg>\n",
              "      </button>\n",
              "      \n",
              "  <style>\n",
              "    .colab-df-container {\n",
              "      display:flex;\n",
              "      flex-wrap:wrap;\n",
              "      gap: 12px;\n",
              "    }\n",
              "\n",
              "    .colab-df-convert {\n",
              "      background-color: #E8F0FE;\n",
              "      border: none;\n",
              "      border-radius: 50%;\n",
              "      cursor: pointer;\n",
              "      display: none;\n",
              "      fill: #1967D2;\n",
              "      height: 32px;\n",
              "      padding: 0 0 0 0;\n",
              "      width: 32px;\n",
              "    }\n",
              "\n",
              "    .colab-df-convert:hover {\n",
              "      background-color: #E2EBFA;\n",
              "      box-shadow: 0px 1px 2px rgba(60, 64, 67, 0.3), 0px 1px 3px 1px rgba(60, 64, 67, 0.15);\n",
              "      fill: #174EA6;\n",
              "    }\n",
              "\n",
              "    [theme=dark] .colab-df-convert {\n",
              "      background-color: #3B4455;\n",
              "      fill: #D2E3FC;\n",
              "    }\n",
              "\n",
              "    [theme=dark] .colab-df-convert:hover {\n",
              "      background-color: #434B5C;\n",
              "      box-shadow: 0px 1px 3px 1px rgba(0, 0, 0, 0.15);\n",
              "      filter: drop-shadow(0px 1px 2px rgba(0, 0, 0, 0.3));\n",
              "      fill: #FFFFFF;\n",
              "    }\n",
              "  </style>\n",
              "\n",
              "      <script>\n",
              "        const buttonEl =\n",
              "          document.querySelector('#df-661580fb-c779-421c-8afd-854b719eb95e button.colab-df-convert');\n",
              "        buttonEl.style.display =\n",
              "          google.colab.kernel.accessAllowed ? 'block' : 'none';\n",
              "\n",
              "        async function convertToInteractive(key) {\n",
              "          const element = document.querySelector('#df-661580fb-c779-421c-8afd-854b719eb95e');\n",
              "          const dataTable =\n",
              "            await google.colab.kernel.invokeFunction('convertToInteractive',\n",
              "                                                     [key], {});\n",
              "          if (!dataTable) return;\n",
              "\n",
              "          const docLinkHtml = 'Like what you see? Visit the ' +\n",
              "            '<a target=\"_blank\" href=https://colab.research.google.com/notebooks/data_table.ipynb>data table notebook</a>'\n",
              "            + ' to learn more about interactive tables.';\n",
              "          element.innerHTML = '';\n",
              "          dataTable['output_type'] = 'display_data';\n",
              "          await google.colab.output.renderOutput(dataTable, element);\n",
              "          const docLink = document.createElement('div');\n",
              "          docLink.innerHTML = docLinkHtml;\n",
              "          element.appendChild(docLink);\n",
              "        }\n",
              "      </script>\n",
              "    </div>\n",
              "  </div>\n",
              "  "
            ],
            "text/plain": [
              "       qseqid                               sseqid   pident  length  mismatch  \\\n",
              "4095     1446  lcl|HF680312.1_prot_CCU73896.1_3447   98.979    2253        23   \n",
              "2667      984   lcl|HF680312.1_prot_CCU70724.1_275   97.870    2113        43   \n",
              "7812     2785  lcl|HF680312.1_prot_CCU71900.1_1451   99.878    1640         2   \n",
              "4322     1523  lcl|HF680312.1_prot_CCU73861.1_3412   99.214    1654        13   \n",
              "2846     1017   lcl|HF680312.1_prot_CCU70690.1_241   99.392    1645        10   \n",
              "...       ...                                  ...      ...     ...       ...   \n",
              "7735     2743  lcl|HF680312.1_prot_CCU73367.1_2918   41.096      73        43   \n",
              "7017     2516  lcl|HF680312.1_prot_CCU71629.1_1180   61.224      49         8   \n",
              "10474    3603  lcl|HF680312.1_prot_CCU72581.1_2132   29.592      98        63   \n",
              "8898     3187  lcl|HF680312.1_prot_CCU73711.1_3262   29.592      98        63   \n",
              "963       357  lcl|HF680312.1_prot_CCU73039.1_2590  100.000      28         0   \n",
              "\n",
              "       gapopen  qstart  qend  sstart  send        evalue  bitscore  \n",
              "4095         0       1  2253       1  2253  0.000000e+00    4296.0  \n",
              "2667         1       7  2119       1  2111  0.000000e+00    4158.0  \n",
              "7812         0       1  1640       1  1640  0.000000e+00    3406.0  \n",
              "4322         0       1  1654       1  1654  0.000000e+00    3372.0  \n",
              "2846         0       1  1645       1  1645  0.000000e+00    3338.0  \n",
              "...        ...     ...   ...     ...   ...           ...       ...  \n",
              "7735         0       5    77       8    80  7.960000e-13      54.7  \n",
              "7017         1       2    39     139   187  1.280000e-11      54.7  \n",
              "10474        2      16   112       4    96  1.250000e-11      53.5  \n",
              "8898         2      16   112       4    96  1.250000e-11      53.5  \n",
              "963          0       1    28       1    28  5.730000e-12      50.1  \n",
              "\n",
              "[3332 rows x 12 columns]"
            ]
          },
          "execution_count": 17,
          "metadata": {},
          "output_type": "execute_result"
        }
      ],
      "source": [
        "hits = mil1hits[mil1hits['sseqid'].str.contains(\"CCU\")].sort_values('bitscore', ascending=False).drop_duplicates('qseqid')\n",
        "hits"
      ]
    },
    {
      "cell_type": "code",
      "execution_count": 18,
      "metadata": {
        "id": "ekZiT09ZnIAF"
      },
      "outputs": [],
      "source": [
        "for i, hit in hits.iterrows():\n",
        "  gene = genes[str(hit['qseqid'])]\n",
        "  match = hit['sseqid'].split('_')[2]\n",
        "  gene.qualifiers['product'] = [mil1genes[match]]"
      ]
    },
    {
      "cell_type": "markdown",
      "metadata": {
        "id": "Pr5GctSQxlsQ"
      },
      "source": [
        "## Добавляем функции белков (из БД SwissProt)"
      ]
    },
    {
      "cell_type": "markdown",
      "metadata": {
        "id": "xLafv2r8xo6P"
      },
      "source": [
        "Читаем информацию из файла scaffolds.hits_from_SwissProt.txt"
      ]
    },
    {
      "cell_type": "code",
      "execution_count": 19,
      "metadata": {
        "colab": {
          "base_uri": "https://localhost:8080/"
        },
        "id": "_bHOMEqhxvDd",
        "outputId": "40a73626-68ae-4101-ba14-445c6409c4ea"
      },
      "outputs": [
        {
          "name": "stdout",
          "output_type": "stream",
          "text": [
            "--2022-10-09 18:48:10--  https://ftp.uniprot.org/pub/databases/uniprot/current_release/knowledgebase/complete/uniprot_sprot.dat.gz\n",
            "Resolving ftp.uniprot.org (ftp.uniprot.org)... 128.175.240.195\n",
            "Connecting to ftp.uniprot.org (ftp.uniprot.org)|128.175.240.195|:443... connected.\n",
            "HTTP request sent, awaiting response... 200 OK\n",
            "Length: 640137227 (610M) [application/x-gzip]\n",
            "Saving to: ‘uniprot_sprot.dat.gz’\n",
            "\n",
            "uniprot_sprot.dat.g 100%[===================>] 610.48M  41.9MB/s    in 15s     \n",
            "\n",
            "2022-10-09 18:48:25 (40.9 MB/s) - ‘uniprot_sprot.dat.gz’ saved [640137227/640137227]\n",
            "\n"
          ]
        }
      ],
      "source": [
        "!wget -nc https://ftp.uniprot.org/pub/databases/uniprot/current_release/knowledgebase/complete/uniprot_sprot.dat.gz\n",
        "!gzip -d uniprot_sprot.dat.gz"
      ]
    },
    {
      "cell_type": "code",
      "execution_count": 20,
      "metadata": {
        "id": "aev41-dVnRW0"
      },
      "outputs": [],
      "source": [
        "!grep '^ID\\|^DE   RecName: Full=' uniprot_sprot.dat > SwissProt_names.txt"
      ]
    },
    {
      "cell_type": "code",
      "execution_count": 21,
      "metadata": {
        "id": "j6MrR-C-nUIH"
      },
      "outputs": [],
      "source": [
        "previd = None\n",
        "swissgenes = dict()\n",
        "for line in open('SwissProt_names.txt'):\n",
        "  if line.startswith('ID'):\n",
        "    previd = line.split()[1]\n",
        "  if line.startswith('DE'):\n",
        "    swissgenes[previd] = line.split('=')[1][:-2]"
      ]
    },
    {
      "cell_type": "code",
      "execution_count": 22,
      "metadata": {
        "id": "o6oAylHTnWSk"
      },
      "outputs": [],
      "source": [
        "swisshits_raw = pd.read_csv('scaffolds.hits_from_SwissProt.txt', sep='\\t', header=None, names=names)\n",
        "swisshits = swisshits_raw.sort_values('bitscore', ascending=False).drop_duplicates('qseqid')\n",
        "\n",
        "for i, hit in swisshits.iterrows():\n",
        "  gene = genes[str(hit['qseqid'])]\n",
        "  match = hit['sseqid'].split('|')[-1]\n",
        "  gene.qualifiers['product'] = [swissgenes[match]]"
      ]
    },
    {
      "cell_type": "code",
      "execution_count": 23,
      "metadata": {
        "colab": {
          "base_uri": "https://localhost:8080/"
        },
        "id": "1ZBNGjnmnd2E",
        "outputId": "8695f566-07e5-4593-b904-222291f89d04"
      },
      "outputs": [
        {
          "data": {
            "text/plain": [
              "71"
            ]
          },
          "execution_count": 23,
          "metadata": {},
          "output_type": "execute_result"
        }
      ],
      "source": [
        "SeqIO.write(scaffolds.values(), \"GENOME.gbk\", \"genbank\")"
      ]
    }
  ],
  "metadata": {
    "colab": {
      "collapsed_sections": [],
      "provenance": []
    },
    "kernelspec": {
      "display_name": "Python 3.10.7 64-bit",
      "language": "python",
      "name": "python3"
    },
    "language_info": {
      "name": "python",
      "version": "3.10.7"
    },
    "vscode": {
      "interpreter": {
        "hash": "80dff70066a5c9d012221702d3bb11cd2e87a6a44d6f60d37e91a0525ef43f36"
      }
    }
  },
  "nbformat": 4,
  "nbformat_minor": 0
}
